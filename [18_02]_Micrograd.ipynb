{
  "cells": [
    {
      "cell_type": "markdown",
      "metadata": {
        "id": "JnGHatCI51JP"
      },
      "source": [
        "\n",
        "\n",
        "# Micrograd\n",
        "\n",
        "Дедлайн: 18.02. Скопируйте ноутбук себе, решите задания. Откройте ноутбук для редактирования. Отправьте ссылку на ноутбук в форму.  https://forms.gle/MWNQqFbUaZvwB5j56\n",
        "\n",
        "---\n",
        "\n",
        "1. watch the [micrograd video](https://www.youtube.com/watch?v=VMj-3S1tku0) on YouTube\n",
        "2. come back and complete these exercises to level up :)"
      ]
    },
    {
      "cell_type": "markdown",
      "metadata": {
        "id": "1Rqd4Unl6lNu"
      },
      "source": [
        "# Section 0: Statistics (2 pts)\n",
        "\n",
        "Given on the lecture. See slides for more details...\n",
        "\n",
        "\n"
      ]
    },
    {
      "cell_type": "markdown",
      "metadata": {
        "id": "9MjNaMoo6xv1"
      },
      "source": [
        "Хотим сравнить значения метрик и проверить гипотезы\n",
        "\n",
        "$ H_0 : F_1 = F_2 \\text{ vs } H_1 : F_1 \\neq F_2 $\n",
        "\n",
        "Зафиксируем уровень значимость $\\alpha = 0.05$.\n",
        "\n",
        "Для проверки воспользуемся двухвыборочным критерием Стьюдента($t$-критерий).\n",
        "\n",
        "\\begin{gather*}\n",
        "t = \\frac{| \\bar{m_1} - \\bar{m_2} |}{\\sqrt{\\frac{\\sigma_1^2}{N_1} + \\frac{\\sigma_2^2}{N_2}}}, где \\\\\n",
        "\\\\\n",
        "N_1 = 5, N_2 = 5, \\bar{m_1} = 92.82, \\bar{m_2} = 92.66, \\sigma_1 = 0.82, \\sigma_2 = 0.11\n",
        "\\end{gather*}\n",
        "\n",
        "После подсчётов имеем, что $ t = 0.43 $. \n",
        "\n",
        "По таблице при $ DF = 2N - 2 = 8$ и $\\ alpha = 0.05 $ имеем $ t_{0.05} = 2,306$.\n",
        "\n",
        "$ t < t_{0.05} \\implies $ результат не статистически значимый и мы не можем отвегнуть гипотезу $ H_0 $.\n",
        "\n",
        "У нас нет достаточных доказательств, чтобы сказать, что средние значения метрик двух моделей различны.\n",
        "\n",
        "\n",
        "\n",
        "\n",
        "***\n",
        "Не понял зачем было дано какое конкретно распределение данных на классы. Я что-то не учёл?"
      ]
    },
    {
      "cell_type": "markdown",
      "metadata": {
        "id": "OFt6NKOz6iBZ"
      },
      "source": [
        "# Section 1: derivatives"
      ]
    },
    {
      "cell_type": "code",
      "execution_count": 59,
      "metadata": {
        "id": "3Jx9fCXl5xHd"
      },
      "outputs": [
        {
          "name": "stdout",
          "output_type": "stream",
          "text": [
            "6.336362190988558\n"
          ]
        }
      ],
      "source": [
        "# here is a mathematical expression that takes 3 inputs and produces one output\n",
        "from math import sin, cos\n",
        "\n",
        "def f(a, b, c):\n",
        "  return -a**3 + sin(3*b) - 1.0/c + b**2.5 - a**0.5\n",
        "\n",
        "print(f(2, 3, 4))"
      ]
    },
    {
      "cell_type": "code",
      "execution_count": 60,
      "metadata": {
        "id": "qXaH59eL9zxf"
      },
      "outputs": [
        {
          "name": "stdout",
          "output_type": "stream",
          "text": [
            "OK for dim 0: expected -12.353553390593273, yours returns -12.353553390593273\n",
            "OK for dim 1: expected 10.25699027111255, yours returns 10.25699027111255\n",
            "OK for dim 2: expected 0.0625, yours returns 0.0625\n"
          ]
        }
      ],
      "source": [
        "# write the function df that returns the analytical gradient of f\n",
        "# i.e. use your skills from calculus to take the derivative, then implement the formula\n",
        "# if you do not calculus then feel free to ask wolframalpha, e.g.:\n",
        "# https://www.wolframalpha.com/input?i=d%2Fda%28sin%283*a%29%29%29\n",
        "\n",
        "def gradf(a, b, c):\n",
        "  return [-3*a**2 - 1.0/(2*a**0.5), 3*cos(3*b) + 2.5*b**1.5, 1.0/(c**2)] # return [df/da, df/db, df/dc]\n",
        "\n",
        "# expected answer is the list of\n",
        "ans = [-12.353553390593273, 10.25699027111255, 0.0625]\n",
        "yours = gradf(2, 3, 4)\n",
        "for dim in range(3):\n",
        "  ok = 'OK' if abs(yours[dim] - ans[dim]) < 1e-5 else 'WRONG!'\n",
        "  print(f\"{ok} for dim {dim}: expected {ans[dim]}, yours returns {yours[dim]}\")\n"
      ]
    },
    {
      "cell_type": "code",
      "execution_count": 61,
      "metadata": {
        "id": "_27n-KTA9Qla"
      },
      "outputs": [
        {
          "name": "stdout",
          "output_type": "stream",
          "text": [
            "OK for dim 0: expected -12.353553390593273, yours returns -12.353559348809995\n",
            "OK for dim 1: expected 10.25699027111255, yours returns 10.256991666679482\n",
            "OK for dim 2: expected 0.0625, yours returns 0.062499984743169534\n"
          ]
        }
      ],
      "source": [
        "# now estimate the gradient numerically without any calculus, using\n",
        "# the approximation we used in the video.\n",
        "# you should not call the function df from the last cell\n",
        "\n",
        "# -----------\n",
        "\n",
        "def derivative_f(a, b, c):\n",
        "  h = 0.000001\n",
        "  df = [f(a+h,b,c) - f(a,b,c), f(a,b+h,c) - f(a,b,c), f(a,b,c+h) - f(a,b,c)]\n",
        "  return [val/h for val in df]\n",
        "\n",
        "numerical_grad = derivative_f(2, 3, 4)\n",
        "\n",
        "# -----------\n",
        "\n",
        "for dim in range(3):\n",
        "  ok = 'OK' if abs(numerical_grad[dim] - ans[dim]) < 1e-5 else 'WRONG!'\n",
        "  print(f\"{ok} for dim {dim}: expected {ans[dim]}, yours returns {numerical_grad[dim]}\")\n"
      ]
    },
    {
      "cell_type": "code",
      "execution_count": 62,
      "metadata": {
        "id": "BUqsGb5o_h2P"
      },
      "outputs": [
        {
          "name": "stdout",
          "output_type": "stream",
          "text": [
            "OK for dim 0: expected -12.353553390593273, yours returns -12.353553391353245\n",
            "OK for dim 1: expected 10.25699027111255, yours returns 10.25699027401572\n",
            "OK for dim 2: expected 0.0625, yours returns 0.06250000028629188\n",
            "Better approximation for dim 0: accuracy improvement 5.95745675013859e-06\n",
            "Better approximation for dim 1: accuracy improvement 1.3926637620897964e-06\n",
            "Better approximation for dim 2: accuracy improvement 1.4970538586567272e-08\n"
          ]
        }
      ],
      "source": [
        "# there is an alternative formula that provides a much better numerical\n",
        "# approximation to the derivative of a function.\n",
        "# learn about it here: https://en.wikipedia.org/wiki/Symmetric_derivative\n",
        "# implement it. confirm that for the same step size h this version gives a\n",
        "# better approximation.\n",
        "\n",
        "# -----------\n",
        "\n",
        "def symmetric_derivative_f(a, b, c):\n",
        "  h = 0.000001\n",
        "  df = [f(a+h,b,c) - f(a-h,b,c), f(a,b+h,c) - f(a,b-h,c), f(a,b,c+h) - f(a,b,c-h)]\n",
        "  return [val/(2*h) for val in df]\n",
        "\n",
        "numerical_grad2 = symmetric_derivative_f(2, 3, 4)\n",
        "\n",
        "# -----------\n",
        "\n",
        "for dim in range(3):\n",
        "  ok = 'OK' if abs(numerical_grad2[dim] - ans[dim]) < 1e-5 else 'WRONG!'\n",
        "  print(f\"{ok} for dim {dim}: expected {ans[dim]}, yours returns {numerical_grad2[dim]}\")\n",
        "\n",
        "\n",
        "for dim in range(3):\n",
        "  dif = abs(numerical_grad[dim] - ans[dim]) - abs(numerical_grad2[dim] - ans[dim])\n",
        "  if dif > 0:\n",
        "    print(f\"Better approximation for dim {dim}: accuracy improvement {dif}\")\n",
        "  else:\n",
        "    print(f\"Worse approximation for dim {dim}\")"
      ]
    },
    {
      "cell_type": "markdown",
      "metadata": {
        "id": "tklF9s_4AtlI"
      },
      "source": [
        "# Section 2: support for softmax, relu, cross-entropy"
      ]
    },
    {
      "cell_type": "code",
      "execution_count": 63,
      "metadata": {
        "id": "nAPe_RVrCTeO"
      },
      "outputs": [],
      "source": [
        "# Value class starter code, with many functions taken out\n",
        "from math import exp, log\n",
        "\n",
        "class Value:\n",
        "\n",
        "  def __init__(self, data, _children=(), _op='', label=''):\n",
        "    self.data = data\n",
        "    self.grad = 0.0\n",
        "    self._backward = lambda: None\n",
        "    self._prev = set(_children)\n",
        "    self._op = _op\n",
        "    self.label = label\n",
        "\n",
        "  def __repr__(self):\n",
        "    return f\"Value(data={self.data})\"\n",
        "\n",
        "  def __add__(self, other):\n",
        "    other = other if isinstance(other, Value) else Value(other)\n",
        "    out = Value(self.data + other.data, (self, other), '+')\n",
        "\n",
        "    def _backward():\n",
        "      self.grad += 1.0 * out.grad\n",
        "      other.grad += 1.0 * out.grad\n",
        "    out._backward = _backward\n",
        "\n",
        "    return out\n",
        "\n",
        "  # ------\n",
        "\n",
        "  def exp(self):\n",
        "    out = Value(exp(self.data), (self, ), 'exp')\n",
        "\n",
        "    def _backward():\n",
        "      self.grad += out.data * out.grad\n",
        "    out._backward = _backward\n",
        "\n",
        "    return out\n",
        "  \n",
        "  def __sub__(self, other):\n",
        "    return self + (-other)\n",
        "  \n",
        "  def __rsub__(self, other):\n",
        "    return -self + other\n",
        "  \n",
        "  def __radd__(self, other):\n",
        "    return self + other\n",
        "\n",
        "  def __pow__(self, other):\n",
        "    out = Value(self.data**other, (self, ), f'**{other}')\n",
        "\n",
        "    def _backward():\n",
        "      self.grad += other * (self.data ** (other - 1)) * out.grad\n",
        "    out._backward = _backward\n",
        "\n",
        "    return out\n",
        "\n",
        "  def __truediv__(self, other):\n",
        "    other = other if isinstance(other, Value) else Value(other)\n",
        "    out = Value(self.data / other.data, (self, other), '/')\n",
        "  \n",
        "    def _backward():\n",
        "      self.grad += out.grad / other.data\n",
        "      other.grad += -self.data * out.grad / (other.data**2)\n",
        "      # self.grad += 1.0 / other.data * out.grad\n",
        "      # other.grad += -self.data / other.data**2 * out.grad\n",
        "    out._backward = _backward\n",
        "\n",
        "    return out\n",
        "  \n",
        "  def __rtruediv__(self, other):\n",
        "    return Value(other) / self\n",
        "  \n",
        "  def log(self):\n",
        "    out = Value(log(self.data), (self, ), 'log')\n",
        "\n",
        "    def _backward():\n",
        "      self.grad += out.grad / self.data\n",
        "    out._backward = _backward\n",
        "\n",
        "    return out\n",
        "  \n",
        "  def __neg__(self):\n",
        "    return self * -1\n",
        "  \n",
        "  def __rmul__(self, other):\n",
        "    return self * other\n",
        "\n",
        "  def __mul__(self, other):\n",
        "    other = other if isinstance(other, Value) else Value(other)\n",
        "    out = Value(self.data * other.data, (self, other), '*')\n",
        "\n",
        "    def _backward():\n",
        "      self.grad += other.data * out.grad\n",
        "      other.grad += self.data * out.grad\n",
        "    out._backward = _backward\n",
        "\n",
        "    return out\n",
        "  \n",
        "  def max(self, other): # max(Value, int)\n",
        "    out = Value(max(self.data, other), (self, ), 'max')\n",
        "\n",
        "    def _backward():\n",
        "      self.grad += out.grad if (self.data > other) else 0\n",
        "    out._backward = _backward\n",
        "\n",
        "    return out\n",
        "\n",
        "  # ------\n",
        "\n",
        "  def backward(self):\n",
        "    topo = []\n",
        "    visited = set()\n",
        "    def build_topo(v):\n",
        "      if v not in visited:\n",
        "        visited.add(v)\n",
        "        for child in v._prev:\n",
        "          build_topo(child)\n",
        "        topo.append(v)\n",
        "    build_topo(self)\n",
        "\n",
        "    self.grad = 1.0\n",
        "    for node in reversed(topo):\n",
        "      node._backward() "
      ]
    },
    {
      "cell_type": "code",
      "execution_count": 64,
      "metadata": {
        "id": "VgWvwVQNAvnI"
      },
      "outputs": [
        {
          "name": "stdout",
          "output_type": "stream",
          "text": [
            "2.1755153626167147\n",
            "OK for dim 0: expected 0.041772570515350445, yours returns 0.04177257051535045\n",
            "OK for dim 1: expected 0.8390245074625319, yours returns 0.839024507462532\n",
            "OK for dim 2: expected 0.005653302662216329, yours returns 0.00565330266221633\n",
            "OK for dim 3: expected -0.8864503806400986, yours returns -0.8864503806400988\n"
          ]
        }
      ],
      "source": [
        "# this is the softmax function\n",
        "# https://en.wikipedia.org/wiki/Softmax_function\n",
        "def softmax(logits):\n",
        "  counts = [logit.exp() for logit in logits]\n",
        "  denominator = sum(counts)\n",
        "  out = [c / denominator for c in counts]\n",
        "  return out\n",
        "\n",
        "# this is the negative log likelihood loss function, pervasive in classification\n",
        "logits = [Value(0.0), Value(3.0), Value(-2.0), Value(1.0)]\n",
        "probs = softmax(logits)\n",
        "loss = -probs[3].log() # dim 3 acts as the label for this input example\n",
        "loss.backward()\n",
        "print(loss.data)\n",
        "\n",
        "ans = [0.041772570515350445, 0.8390245074625319, 0.005653302662216329, -0.8864503806400986]\n",
        "for dim in range(4):\n",
        "  ok = 'OK' if abs(logits[dim].grad - ans[dim]) < 1e-5 else 'WRONG!'\n",
        "  print(f\"{ok} for dim {dim}: expected {ans[dim]}, yours returns {logits[dim].grad}\")\n"
      ]
    },
    {
      "cell_type": "code",
      "execution_count": 65,
      "metadata": {
        "id": "sHRJlAtJFtWz"
      },
      "outputs": [],
      "source": [
        "#this is relu\n",
        "#https://en.wikipedia.org/wiki/Rectifier_(neural_networks)\n",
        "def relu(inp):\n",
        "  result = []\n",
        "  for v in inp:\n",
        "    result.append(v.max(0))\n",
        "  return result\n",
        "\n",
        "#this is sigmoid, feel free to implement by yourself\n",
        "#https://en.wikipedia.org/wiki/Sigmoid_function\n",
        "def sigmoid(inp):\n",
        "  result = []\n",
        "  for v in inp:\n",
        "    result.append(1 / (1 + (-v).exp()))\n",
        "  return result"
      ]
    },
    {
      "cell_type": "code",
      "execution_count": 66,
      "metadata": {
        "id": "266VvRtVF9q8"
      },
      "outputs": [],
      "source": [
        "#should do something like that: https://pytorch.org/docs/stable/generated/torch.nn.BCEWithLogitsLoss.html\n",
        "#with sum reduction\n",
        "def cross_entropy(inp, target):\n",
        "  probs = sigmoid(inp)\n",
        "  vals = [-(t*p.log() + (1-t)*(1-p).log()) for p,t in zip(probs, target)]\n",
        "  total_loss = sum(vals)\n",
        "  return total_loss\n"
      ]
    },
    {
      "cell_type": "markdown",
      "metadata": {
        "id": "YZ-tUdCLHYC6"
      },
      "source": [
        "#Section 3: Verification\n",
        "\n",
        "All implemented functions should be verified by their PyTorch analogs.\n",
        "Use same inputs to check gradients!"
      ]
    },
    {
      "cell_type": "code",
      "execution_count": 67,
      "metadata": {
        "colab": {
          "base_uri": "https://localhost:8080/"
        },
        "id": "q7ca1SVAGG1S",
        "outputId": "8e079413-0f53-44f5-86c4-f1c975303535"
      },
      "outputs": [
        {
          "name": "stdout",
          "output_type": "stream",
          "text": [
            "OK\n"
          ]
        }
      ],
      "source": [
        "# verify the gradient using the torch library\n",
        "# torch should give you the exact same gradient with same inputs\n",
        "import torch\n",
        "\n",
        "#example\n",
        "torch_value1 = torch.Tensor([6.0]).double()\n",
        "torch_value1.requires_grad = True\n",
        "\n",
        "torch_value2 = torch.Tensor([7.0]).double()\n",
        "torch_value2.requires_grad = True\n",
        "\n",
        "torch_sum = torch_value1 + torch_value2\n",
        "torch_sum.backward()\n",
        "\n",
        "value_value1 = Value(6.0)\n",
        "value_value2 = Value(7.0)\n",
        "\n",
        "value_sum = value_value1 + value_value2\n",
        "\n",
        "value_sum.backward()\n",
        "\n",
        "assert torch_value1.grad.item() == value_value1.grad\n",
        "assert torch_value2.grad.item() == value_value2.grad\n",
        "\n",
        "print('OK')"
      ]
    },
    {
      "cell_type": "code",
      "execution_count": 68,
      "metadata": {
        "id": "sjG0KrzmLFP7"
      },
      "outputs": [
        {
          "name": "stdout",
          "output_type": "stream",
          "text": [
            "grad [1.0, 0.0, 1.0]\n",
            "RELU: OK\n",
            "grad [0.7213991842739687, 0.013212886953789414, -0.7346120712277581]\n",
            "SOFTMAX: OK\n",
            "grad [0.045176659730912, 0.19661193324148185, 0.10499358540350662]\n",
            "SIGMOID: OK\n",
            "grad [0.9525741268224334, 0.2689414213699951, -0.11920292202211769]\n",
            "CROSS_ENTROPY: OK\n"
          ]
        }
      ],
      "source": [
        "#Check RELU\n",
        "\n",
        "torch_value = torch.Tensor([3.0, -1.0, 2.0]).double()\n",
        "torch_value.requires_grad = True\n",
        "\n",
        "torch_relu = torch.nn.functional.relu(torch_value)\n",
        "torch_sum = sum(torch_relu)\n",
        "torch_sum.backward()\n",
        "\n",
        "my_value = [Value(3.0), Value(-1.0), Value(2.0)]\n",
        "\n",
        "my_relu = relu(my_value)\n",
        "my_sum = sum(my_relu)\n",
        "my_sum.backward()\n",
        "\n",
        "print(f\"grad {torch_value.grad.tolist()}\")\n",
        "assert torch_value.grad.tolist() == [val.grad for val in my_value]\n",
        "\n",
        "print('RELU: OK')\n",
        "\n",
        "#Check Softmax\n",
        "\n",
        "torch_value = torch.Tensor([3.0, -1.0, 2.0]).double()\n",
        "torch_value.requires_grad = True\n",
        "\n",
        "torch_softmax = torch.nn.functional.softmax(torch_value, dim=-1)\n",
        "loss = -torch_softmax[2].log() # dim 2 acts as the label for this input example\n",
        "loss.backward()\n",
        "\n",
        "my_value = [Value(3.0), Value(-1.0), Value(2.0)]\n",
        "\n",
        "my_softmax = softmax(my_value)\n",
        "loss = -my_softmax[2].log()\n",
        "loss.backward()\n",
        "\n",
        "print(f\"grad {torch_value.grad.tolist()}\")\n",
        "assert all([True if abs(tv - v.grad) < 1e-7 else False for tv, v in zip(torch_value.grad.tolist(), my_value)])\n",
        "\n",
        "print('SOFTMAX: OK')\n",
        "\n",
        "#Check Sigmoid\n",
        "\n",
        "torch_value = torch.Tensor([3.0, -1.0, 2.0]).double()\n",
        "torch_value.requires_grad = True\n",
        "\n",
        "torch_sigmoid = torch.nn.functional.sigmoid(torch_value)\n",
        "torch_sum = sum(torch_sigmoid)\n",
        "torch_sum.backward()\n",
        "\n",
        "my_value = [Value(3.0), Value(-1.0), Value(2.0)]\n",
        "\n",
        "my_sigmoid = sigmoid(my_value)\n",
        "my_sum = sum(my_sigmoid)\n",
        "my_sum.backward()\n",
        "\n",
        "print(f\"grad {torch_value.grad.tolist()}\")\n",
        "assert all([True if abs(tv - v.grad) < 1e-7 else False for tv, v in zip(torch_value.grad.tolist(), my_value)])\n",
        "\n",
        "print('SIGMOID: OK')\n",
        "\n",
        "#Check Cross-Entropy\n",
        "\n",
        "torch_value = torch.Tensor([3.0, -1.0, 2.0]).double()\n",
        "torch_value.requires_grad = True\n",
        "\n",
        "torch_loss = torch.nn.functional.binary_cross_entropy_with_logits(torch_value, torch.Tensor([0.0, 0.0, 1.0]).double(), reduction='sum')\n",
        "torch_loss.backward()\n",
        "\n",
        "my_value = [Value(3.0), Value(-1.0), Value(2.0)]\n",
        "\n",
        "my_loss = cross_entropy(my_value, [Value(0.0), Value(0.0), Value(1.0)])\n",
        "my_loss.backward()\n",
        "\n",
        "print(f\"grad {torch_value.grad.tolist()}\")\n",
        "assert all([True if abs(tv - v.grad) < 1e-7 else False for tv, v in zip(torch_value.grad.tolist(), my_value)])\n",
        "\n",
        "print('CROSS_ENTROPY: OK')"
      ]
    },
    {
      "cell_type": "markdown",
      "metadata": {
        "id": "oo9KEmIv0Emi"
      },
      "source": [
        "#Section 4: Debug code (2 pts)\n",
        "\n",
        "This code is implemented with some errors.\n",
        "Your task is to find and fix all of them.\n",
        "\n",
        "Please write a short summary what you've fixed (ex: line 100 - typo, line 42 - invalid argument)\n"
      ]
    },
    {
      "cell_type": "code",
      "execution_count": 69,
      "metadata": {
        "id": "6nYWSU0U0DHj"
      },
      "outputs": [],
      "source": [
        "import numpy as np\n",
        "\n",
        "def mse_loss(predictions, targets):\n",
        "    \"\"\"\n",
        "    Returns the Mean Squared Error Loss given the\n",
        "    predictions and targets\n",
        "\n",
        "    Args :\n",
        "    predictions (np. ndarray ): Model predictions\n",
        "    targets (np. ndarray ): True outputs\n",
        "\n",
        "    Returns :\n",
        "    Mean squared error loss between predictions and targets\n",
        "    \"\"\"\n",
        "    return np.mean((predictions.reshape(-1) - targets.reshape(-1))**2)  # fix\n",
        "\n",
        "\n",
        "def dropout (x, p =0.1):\n",
        "    \"\"\"\n",
        "    Applies dropout on the input x with a drop\n",
        "    probability of p\n",
        "\n",
        "    Args :\n",
        "    x (np. ndarray ): 2D array input\n",
        "    p ( float ): dropout probability )\n",
        "\n",
        "    Returns :\n",
        "    Array with values dropped out\n",
        "    \"\"\"\n",
        "    ind = np.random.choice(x.shape[1] * x.shape[0], replace=False, size=int(x.shape[1] * x.shape[0] * p))\n",
        "    x[np.unravel_index(ind, x.shape)] = 0 # fix\n",
        "    return x / (1 - p) # fix\n",
        "\n",
        "def get_grads(loss, w1, b1, w2, b2):\n",
        "    \"\"\"\n",
        "    This function takes the loss and returns the gradients\n",
        "    for the weights and biases\n",
        "    YOU MAY ASSUME THIS FUNCTION HAS NO ERRORS\n",
        "    \"\"\"\n",
        "    return dw1, db1, dw2, db2\n",
        "\n",
        "\n",
        "def sample_batches(data, batchsize):\n",
        "    \"\"\"\n",
        "    This function samples of batches of size `batchsize `\n",
        "    from the training data .\n",
        "    YOU MAY ASSUME THIS FUNCTION HAS NO ERRORS\n",
        "    \"\"\"\n",
        "    return x, y\n",
        "\n",
        "\n",
        "class Adam:\n",
        "    \"\"\"\n",
        "    The class for the Adam optimizer that\n",
        "    accepts the parameters and updates them .\n",
        "    YOU MAY ASSUME THIS CLASS AND ITS METHODS HAVE NO ERRORS\n",
        "    \"\"\"\n",
        "    def __init__ (self, w1, b1, w2, b2):\n",
        "        pass\n",
        "\n",
        "    def update(self):\n",
        "        \"\"\"\n",
        "        Updates the params according to the\n",
        "        Adam update rule\n",
        "        \"\"\"\n",
        "        pass\n",
        "\n",
        "\n",
        "class MLP:\n",
        "    \"\"\"\n",
        "    MLP Model to perform regression\n",
        "    \"\"\"\n",
        "    def __init__(self):\n",
        "        super().__init__() # super?\n",
        "        self.w1 = np.random.randn(10, 20)\n",
        "        self.b1 = np.zeros(20) # fix\n",
        "        self.w2 = np.random.randn(20, 1)\n",
        "        self.b2 = np.zeros(1) # fix\n",
        "        self.optimizer = Adam(w1, b1, w2, b2)\n",
        "\n",
        "    def forward(self, x):\n",
        "        \"\"\"\n",
        "        Forward pass for the model\n",
        "\n",
        "        Args :\n",
        "        x (np.ndarray ): Input of shape batchsize x 10\n",
        "\n",
        "        Returns :\n",
        "        out (np.ndarray ): Output of shape batchsize x 1\n",
        "        \"\"\"\n",
        "        x = x.dot(self.w1) + self.b1 # fix\n",
        "        x = dropout(x)\n",
        "        x = x.dot(self.w2) + self.b2 # fix\n",
        "        return x\n",
        "\n",
        "\n",
        "    def train(self, training_data, test_data):\n",
        "        \"\"\"\n",
        "        This method trains the neural network and outputs\n",
        "        predictions for the test_data\n",
        "\n",
        "        # Args :\n",
        "        # training_data (np.ndarray ):\n",
        "        # Training data containing (x, y) pairs\n",
        "        # x is 10- dimensional and y is 1- dimensional\n",
        "        # test_data (np.ndarray ): 100 test points of shape\n",
        "        # (100 , 10)\n",
        "\n",
        "        # Returns :\n",
        "        # predictions (np.ndarray ): The predictions for\n",
        "        # the 100 test points .\n",
        "        # Final shape is (100 ,1)\n",
        "        # \"\"\"\n",
        "        batchsize = 32; num_epochs = 1000\n",
        "        for _ in range(num_epochs): # fix\n",
        "            for x, y in sample_batches(training_data, batchsize):\n",
        "                # Shape of x is (32 , 10) and y is (32 , 1)\n",
        "                out = self.forward(x)\n",
        "                loss = mse_loss(out, y) # fix\n",
        "                dw1, db1, dw2, db2 = get_grads(loss, self.w1, self.b1, self.w2, self.b2)\n",
        "            self.optimizer.update() # zero_grad?\n",
        "\n",
        "        # Assume test_data is of shape (100 , 10)\n",
        "        predictions = self.forward(test_data)\n",
        "        return predictions # fix\n",
        "\n",
        "\n",
        "\n",
        "\n",
        "# -------------------------------------------------\n",
        "#\n",
        "# fixed a common tab error before the docstring\n",
        "# \n",
        "# line 15 - mean instead of 0.5\n",
        "#\n",
        "# line 31 - typo\n",
        "#\n",
        "# line 32 - wrong scaling\n",
        "#\n",
        "# line 74 - no super class    \n",
        "#    \n",
        "# line 76,78 - size fix\n",
        "#\n",
        "# line 91,93 - typo and matmul fix\n",
        "#    \n",
        "# line 115 - num_epochs not defined\n",
        "#\n",
        "# line 119 - out instead of x\n",
        "#\n",
        "# line 121 - you need to add self.optimizer.zero_grad() after update if it is not meant to be done inside update\n",
        "#\n",
        "# line 125 - typo\n",
        "#\n",
        "# -------------------------------------------------"
      ]
    }
  ],
  "metadata": {
    "colab": {
      "provenance": []
    },
    "kernelspec": {
      "display_name": "Python 3",
      "name": "python3"
    },
    "language_info": {
      "codemirror_mode": {
        "name": "ipython",
        "version": 3
      },
      "file_extension": ".py",
      "mimetype": "text/x-python",
      "name": "python",
      "nbconvert_exporter": "python",
      "pygments_lexer": "ipython3",
      "version": "3.10.12"
    }
  },
  "nbformat": 4,
  "nbformat_minor": 0
}
